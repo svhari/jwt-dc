{
 "cells": [
  {
   "cell_type": "code",
   "execution_count": 2,
   "metadata": {},
   "outputs": [],
   "source": [
    "# qnu.ipynb\n",
    "import numpy as np\n",
    "import hashlib\n",
    "import json\n",
    "import requests\n",
    "import numpy\n",
    "from time import time,sleep\n",
    "\n",
    "import warnings\n",
    "warnings.filterwarnings('ignore')"
   ]
  },
  {
   "cell_type": "code",
   "execution_count": null,
   "metadata": {},
   "outputs": [],
   "source": []
  },
  {
   "cell_type": "code",
   "execution_count": 4,
   "metadata": {},
   "outputs": [],
   "source": [
    "\n",
    "def randHex():\n",
    "    randLen = input(\"Enter the length of rand bytes\")\n",
    "    url = \"https://eaas.qnulabs.com/api/v1/randbin\"\n",
    "    result = hashlib.sha512((str(\"6625a404-fcf7-aa22-595f-1ce908fc5ebb\")+str(\"|\")+str(\"0\")+str(\"|\")+str(randLen)+str(\"|\")+str(\"$2a$04$nArWqsGVKLmYJ3ob48c2/.fL8hULjZTJLWdtTEstM4Ss8oqagInmu\")).encode())\n",
    "\n",
    "    data= {\n",
    "            'API_Key'     : \"6b176526-0f09-ca60-a91f-3ace64af256d\",\n",
    "            'APISalt'     : \"$2a$04$YmVTAOYxEeGIK9s6FV72QeniQ0G1nDurg0S0p2ln5VPaew.Y/AKpW\",\n",
    "            'Rand_type'   : int(0),\n",
    "            'Length'      : int(randLen),\n",
    "            'Hash'        : result.hexdigest()\n",
    "            }\n",
    "    response = -1\n",
    "    while response < 0:\n",
    "        try :\n",
    "            r = requests.post(url, data=json.dumps(data),verify=False,timeout=1)\n",
    "            if r.status_code == 200 :\n",
    "                response = 1\n",
    "        except:\n",
    "            continue\n",
    "    result = r.content.decode(\"utf-8\").split(',')\n",
    "    randNum = result[0].split('\"')\n",
    "    print(randNum[3])\n",
    "    print(type(randNum[3]))\n",
    "    #with open('my_file.txt', 'w') as f:\n",
    "    #    f.write(result)\n",
    "\n",
    "\n"
   ]
  },
  {
   "cell_type": "code",
   "execution_count": 5,
   "metadata": {},
   "outputs": [
    {
     "ename": "ValueError",
     "evalue": "invalid literal for int() with base 10: ''",
     "output_type": "error",
     "traceback": [
      "\u001b[1;31m---------------------------------------------------------------------------\u001b[0m",
      "\u001b[1;31mValueError\u001b[0m                                Traceback (most recent call last)",
      "\u001b[1;32mc:\\Users\\haris\\python\\Qnu\\qnu.ipynb Cell 4\u001b[0m line \u001b[0;36m1\n\u001b[1;32m----> <a href='vscode-notebook-cell:/c%3A/Users/haris/python/Qnu/qnu.ipynb#W5sZmlsZQ%3D%3D?line=0'>1</a>\u001b[0m randHex()\n",
      "\u001b[1;32mc:\\Users\\haris\\python\\Qnu\\qnu.ipynb Cell 4\u001b[0m line \u001b[0;36m1\n\u001b[0;32m      <a href='vscode-notebook-cell:/c%3A/Users/haris/python/Qnu/qnu.ipynb#W5sZmlsZQ%3D%3D?line=2'>3</a>\u001b[0m url \u001b[39m=\u001b[39m \u001b[39m\"\u001b[39m\u001b[39mhttps://eaas.qnulabs.com/api/v1/randbin\u001b[39m\u001b[39m\"\u001b[39m\n\u001b[0;32m      <a href='vscode-notebook-cell:/c%3A/Users/haris/python/Qnu/qnu.ipynb#W5sZmlsZQ%3D%3D?line=3'>4</a>\u001b[0m result \u001b[39m=\u001b[39m hashlib\u001b[39m.\u001b[39msha512((\u001b[39mstr\u001b[39m(\u001b[39m\"\u001b[39m\u001b[39m6625a404-fcf7-aa22-595f-1ce908fc5ebb\u001b[39m\u001b[39m\"\u001b[39m)\u001b[39m+\u001b[39m\u001b[39mstr\u001b[39m(\u001b[39m\"\u001b[39m\u001b[39m|\u001b[39m\u001b[39m\"\u001b[39m)\u001b[39m+\u001b[39m\u001b[39mstr\u001b[39m(\u001b[39m\"\u001b[39m\u001b[39m0\u001b[39m\u001b[39m\"\u001b[39m)\u001b[39m+\u001b[39m\u001b[39mstr\u001b[39m(\u001b[39m\"\u001b[39m\u001b[39m|\u001b[39m\u001b[39m\"\u001b[39m)\u001b[39m+\u001b[39m\u001b[39mstr\u001b[39m(randLen)\u001b[39m+\u001b[39m\u001b[39mstr\u001b[39m(\u001b[39m\"\u001b[39m\u001b[39m|\u001b[39m\u001b[39m\"\u001b[39m)\u001b[39m+\u001b[39m\u001b[39mstr\u001b[39m(\u001b[39m\"\u001b[39m\u001b[39m$2a$04$nArWqsGVKLmYJ3ob48c2/.fL8hULjZTJLWdtTEstM4Ss8oqagInmu\u001b[39m\u001b[39m\"\u001b[39m))\u001b[39m.\u001b[39mencode())\n\u001b[0;32m      <a href='vscode-notebook-cell:/c%3A/Users/haris/python/Qnu/qnu.ipynb#W5sZmlsZQ%3D%3D?line=5'>6</a>\u001b[0m data\u001b[39m=\u001b[39m {\n\u001b[0;32m      <a href='vscode-notebook-cell:/c%3A/Users/haris/python/Qnu/qnu.ipynb#W5sZmlsZQ%3D%3D?line=6'>7</a>\u001b[0m         \u001b[39m'\u001b[39m\u001b[39mAPI_Key\u001b[39m\u001b[39m'\u001b[39m     : \u001b[39m\"\u001b[39m\u001b[39m6b176526-0f09-ca60-a91f-3ace64af256d\u001b[39m\u001b[39m\"\u001b[39m,\n\u001b[0;32m      <a href='vscode-notebook-cell:/c%3A/Users/haris/python/Qnu/qnu.ipynb#W5sZmlsZQ%3D%3D?line=7'>8</a>\u001b[0m         \u001b[39m'\u001b[39m\u001b[39mAPISalt\u001b[39m\u001b[39m'\u001b[39m     : \u001b[39m\"\u001b[39m\u001b[39m$2a$04$YmVTAOYxEeGIK9s6FV72QeniQ0G1nDurg0S0p2ln5VPaew.Y/AKpW\u001b[39m\u001b[39m\"\u001b[39m,\n\u001b[0;32m      <a href='vscode-notebook-cell:/c%3A/Users/haris/python/Qnu/qnu.ipynb#W5sZmlsZQ%3D%3D?line=8'>9</a>\u001b[0m         \u001b[39m'\u001b[39m\u001b[39mRand_type\u001b[39m\u001b[39m'\u001b[39m   : \u001b[39mint\u001b[39m(\u001b[39m0\u001b[39m),\n\u001b[1;32m---> <a href='vscode-notebook-cell:/c%3A/Users/haris/python/Qnu/qnu.ipynb#W5sZmlsZQ%3D%3D?line=9'>10</a>\u001b[0m         \u001b[39m'\u001b[39m\u001b[39mLength\u001b[39m\u001b[39m'\u001b[39m      : \u001b[39mint\u001b[39;49m(randLen),\n\u001b[0;32m     <a href='vscode-notebook-cell:/c%3A/Users/haris/python/Qnu/qnu.ipynb#W5sZmlsZQ%3D%3D?line=10'>11</a>\u001b[0m         \u001b[39m'\u001b[39m\u001b[39mHash\u001b[39m\u001b[39m'\u001b[39m        : result\u001b[39m.\u001b[39mhexdigest()\n\u001b[0;32m     <a href='vscode-notebook-cell:/c%3A/Users/haris/python/Qnu/qnu.ipynb#W5sZmlsZQ%3D%3D?line=11'>12</a>\u001b[0m         }\n\u001b[0;32m     <a href='vscode-notebook-cell:/c%3A/Users/haris/python/Qnu/qnu.ipynb#W5sZmlsZQ%3D%3D?line=12'>13</a>\u001b[0m response \u001b[39m=\u001b[39m \u001b[39m-\u001b[39m\u001b[39m1\u001b[39m\n\u001b[0;32m     <a href='vscode-notebook-cell:/c%3A/Users/haris/python/Qnu/qnu.ipynb#W5sZmlsZQ%3D%3D?line=13'>14</a>\u001b[0m \u001b[39mwhile\u001b[39;00m response \u001b[39m<\u001b[39m \u001b[39m0\u001b[39m:\n",
      "\u001b[1;31mValueError\u001b[0m: invalid literal for int() with base 10: ''"
     ]
    }
   ],
   "source": [
    "randHex()"
   ]
  },
  {
   "cell_type": "code",
   "execution_count": null,
   "metadata": {},
   "outputs": [],
   "source": []
  }
 ],
 "metadata": {
  "kernelspec": {
   "display_name": "bt_kmx",
   "language": "python",
   "name": "python3"
  },
  "language_info": {
   "codemirror_mode": {
    "name": "ipython",
    "version": 3
   },
   "file_extension": ".py",
   "mimetype": "text/x-python",
   "name": "python",
   "nbconvert_exporter": "python",
   "pygments_lexer": "ipython3",
   "version": "3.9.16"
  }
 },
 "nbformat": 4,
 "nbformat_minor": 2
}
